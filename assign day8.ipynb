{
 "cells": [
  {
   "cell_type": "code",
   "execution_count": 1,
   "metadata": {},
   "outputs": [],
   "source": [
    "def get(fun):\n",
    "    def wrap():\n",
    "        print(\"Hey enter a number\")\n",
    "        a=int(input(\"Enter a number\"))\n",
    "        b=int(input(\"Enter a number\"))\n",
    "        fun(a,b)\n",
    "    return wrap\n"
   ]
  },
  {
   "cell_type": "code",
   "execution_count": 6,
   "metadata": {},
   "outputs": [
    {
     "name": "stdout",
     "output_type": "stream",
     "text": [
      "Hey enter a number\n",
      "Enter a number10\n",
      "Fibonacci Series:  0 1 1 2 3 5 8 13 21 34 "
     ]
    }
   ],
   "source": [
    "\n",
    "@get\n",
    "def fib(n):\n",
    "    a = 0\n",
    "    b = 1\n",
    "    sum = 0\n",
    "    count = 1\n",
    "    print(\"Fibonacci Series: \", end = \" \")\n",
    "    while(count <= n):\n",
    "        print(sum, end = \" \")\n",
    "        count += 1\n",
    "        a = b\n",
    "        b = sum\n",
    "        sum = a + b\n",
    "fib()\n",
    "   "
   ]
  },
  {
   "cell_type": "code",
   "execution_count": 7,
   "metadata": {},
   "outputs": [
    {
     "name": "stdout",
     "output_type": "stream",
     "text": [
      "Hey you cannot write something into a file in read mode\n"
     ]
    }
   ],
   "source": [
    "try:\n",
    "    file=open(\"l.txt\",\"r\")\n",
    "    file.write(\"Hello\")\n",
    "    file.close\n",
    "except:\n",
    "    print(\"Hey you cannot write something into a file in read mode\")"
   ]
  },
  {
   "cell_type": "code",
   "execution_count": null,
   "metadata": {},
   "outputs": [],
   "source": []
  }
 ],
 "metadata": {
  "kernelspec": {
   "display_name": "Python 3",
   "language": "python",
   "name": "python3"
  },
  "language_info": {
   "codemirror_mode": {
    "name": "ipython",
    "version": 3
   },
   "file_extension": ".py",
   "mimetype": "text/x-python",
   "name": "python",
   "nbconvert_exporter": "python",
   "pygments_lexer": "ipython3",
   "version": "3.8.3"
  }
 },
 "nbformat": 4,
 "nbformat_minor": 4
}
